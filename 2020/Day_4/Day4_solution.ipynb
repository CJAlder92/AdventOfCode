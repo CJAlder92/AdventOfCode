{
 "cells": [
  {
   "cell_type": "code",
   "execution_count": 5,
   "metadata": {},
   "outputs": [],
   "source": [
    "with open(\"input.txt\",\"r\") as f:\n",
    "    codes = [l.strip() for l in f]"
   ]
  },
  {
   "cell_type": "code",
   "execution_count": 27,
   "metadata": {},
   "outputs": [],
   "source": [
    "def valid_field(key, entry):\n",
    "    if key == \"byr\":\n",
    "        if 1920 <= int(entry[key]) <= 2020:\n",
    "            return True\n",
    "        else:\n",
    "            return False\n",
    "    if key == \"iyr\":\n",
    "        if 2010 <= int(entry[key]) <= 2020:\n",
    "            return True\n",
    "        else:\n",
    "            return False\n",
    "    if key == \"eyr\":\n",
    "        if 2020 <= int(entry[key]) <= 2030:\n",
    "            return True\n",
    "        else:\n",
    "            return False\n",
    "    if key == \"hgt\":\n",
    "        pattern = re.compile(\"^(1[5-8][0-9]|19[0-3])cm|(59|6[0-9]|7[0-6])in$\")\n",
    "        if pattern.fullmatch(entry[key]):\n",
    "            return True\n",
    "        else:\n",
    "            return False\n",
    "    if key == \"hcl\":\n",
    "        pattern = re.compile(\"^#[a-f0-9]{6}$\")\n",
    "        if pattern.fullmatch(entry[key]):\n",
    "            return True\n",
    "        else:\n",
    "            return False\n",
    "    if key == \"ecl\":\n",
    "        cols = [\"amb\",\"blu\", \"brn\", \"gry\", \"grn\", \"hzl\", \"oth\"]\n",
    "        if entry[key] in cols:\n",
    "            return True\n",
    "        else:\n",
    "            return False\n",
    "    if key == \"pid\":\n",
    "        pattern = re.compile(\"^[0-9]{9}$\")\n",
    "        if pattern.fullmatch(entry[key]):\n",
    "            return True\n",
    "        else:\n",
    "            return False       \n",
    "        \n",
    "        "
   ]
  },
  {
   "cell_type": "code",
   "execution_count": 28,
   "metadata": {},
   "outputs": [],
   "source": [
    "def valid(id_check, check2 = False):\n",
    "    fields = [\"byr\", \"iyr\", \"eyr\", \"hgt\", \"hcl\", \"ecl\", \"pid\"]\n",
    "    if all(i in id_check for i in fields):\n",
    "        if check2 == False:\n",
    "            return True\n",
    "        else:\n",
    "            if all(valid_field(f, id_check) for f in fields):\n",
    "                return True\n",
    "            else:\n",
    "                return False\n",
    "    else:\n",
    "        return False"
   ]
  },
  {
   "cell_type": "code",
   "execution_count": 8,
   "metadata": {},
   "outputs": [],
   "source": [
    "ids = []\n",
    "tmp = []\n",
    "l = 0\n",
    "while l < len(codes):\n",
    "    if codes[l] != \"\":\n",
    "        tmp.extend(codes[l].split())\n",
    "    else:\n",
    "        ids.append(dict([x.split(\":\") for x in tmp]))\n",
    "        tmp = []\n",
    "    l += 1\n",
    "ids.append(dict([x.split(\":\") for x in tmp]))"
   ]
  },
  {
   "cell_type": "code",
   "execution_count": 9,
   "metadata": {},
   "outputs": [
    {
     "data": {
      "text/plain": [
       "210"
      ]
     },
     "execution_count": 9,
     "metadata": {},
     "output_type": "execute_result"
    }
   ],
   "source": [
    "count = []\n",
    "for entry in ids:\n",
    "    count.append(valid(entry))\n",
    "sum(count)"
   ]
  },
  {
   "cell_type": "markdown",
   "metadata": {},
   "source": [
    "Part 1 - revised"
   ]
  },
  {
   "cell_type": "code",
   "execution_count": 10,
   "metadata": {},
   "outputs": [],
   "source": [
    "import re\n",
    "fp = open('input.txt', 'r')\n",
    "contents = fp.read().strip()\n",
    "data = contents.split(\"\\n\\n\")\n",
    "clean = [i.split() for i in data]"
   ]
  },
  {
   "cell_type": "code",
   "execution_count": 11,
   "metadata": {},
   "outputs": [],
   "source": [
    "ids = list()\n",
    "for c in clean:\n",
    "    ids.append(dict([x.split(\":\") for x in c]))"
   ]
  },
  {
   "cell_type": "code",
   "execution_count": 12,
   "metadata": {},
   "outputs": [
    {
     "data": {
      "text/plain": [
       "210"
      ]
     },
     "execution_count": 12,
     "metadata": {},
     "output_type": "execute_result"
    }
   ],
   "source": [
    "count = []\n",
    "for entry in ids:\n",
    "    count.append(valid(entry))\n",
    "sum(count)"
   ]
  },
  {
   "cell_type": "markdown",
   "metadata": {},
   "source": [
    "Part 2"
   ]
  },
  {
   "cell_type": "code",
   "execution_count": 13,
   "metadata": {},
   "outputs": [],
   "source": [
    "count = []\n",
    "for entry in ids:\n",
    "    count.append(valid(entry, check2 = True))"
   ]
  },
  {
   "cell_type": "code",
   "execution_count": 14,
   "metadata": {},
   "outputs": [
    {
     "data": {
      "text/plain": [
       "132"
      ]
     },
     "execution_count": 14,
     "metadata": {},
     "output_type": "execute_result"
    }
   ],
   "source": [
    "sum(count)"
   ]
  },
  {
   "cell_type": "code",
   "execution_count": 26,
   "metadata": {},
   "outputs": [],
   "source": [
    "pattern = re.compile(\"^(1[5-8][0-9]|19[0-3])cm|(59|6[0-9]|7[0-6])in$\")\n",
    "if pattern.fullmatch(\"155in\"):\n",
    "    print(\"yes\")"
   ]
  },
  {
   "cell_type": "code",
   "execution_count": null,
   "metadata": {},
   "outputs": [],
   "source": []
  }
 ],
 "metadata": {
  "kernelspec": {
   "display_name": "Python 3",
   "language": "python",
   "name": "python3"
  },
  "language_info": {
   "codemirror_mode": {
    "name": "ipython",
    "version": 3
   },
   "file_extension": ".py",
   "mimetype": "text/x-python",
   "name": "python",
   "nbconvert_exporter": "python",
   "pygments_lexer": "ipython3",
   "version": "3.7.1"
  }
 },
 "nbformat": 4,
 "nbformat_minor": 2
}
