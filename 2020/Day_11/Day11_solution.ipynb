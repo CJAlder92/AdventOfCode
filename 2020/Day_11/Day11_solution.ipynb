{
 "cells": [
  {
   "cell_type": "code",
   "execution_count": 28,
   "metadata": {},
   "outputs": [],
   "source": [
    "import numpy as np\n",
    "\n",
    "test = \"\"\"L.LL.LL.LL\n",
    "LLLLLLL.LL\n",
    "L.L.L..L..\n",
    "LLLL.LL.LL\n",
    "L.LL.LL.LL\n",
    "L.LLLLL.LL\n",
    "..L.L.....\n",
    "LLLLLLLLLL\n",
    "L.LLLLLL.L\n",
    "L.LLLLL.LL\"\"\"\n",
    "test = [[c for c in t] for t in test.split(\"\\n\")]"
   ]
  },
  {
   "cell_type": "code",
   "execution_count": 39,
   "metadata": {},
   "outputs": [
    {
     "data": {
      "text/plain": [
       "True"
      ]
     },
     "execution_count": 39,
     "metadata": {},
     "output_type": "execute_result"
    }
   ],
   "source": [
    "test_matrix = np.matrix(test)"
   ]
  },
  {
   "cell_type": "raw",
   "metadata": {},
   "source": [
    "Part 1"
   ]
  },
  {
   "cell_type": "code",
   "execution_count": 138,
   "metadata": {},
   "outputs": [
    {
     "data": {
      "text/plain": [
       "matrix([['L', 'L', 'L', ..., 'L', 'L', 'L'],\n",
       "        ['L', 'L', 'L', ..., 'L', 'L', 'L'],\n",
       "        ['L', 'L', 'L', ..., 'L', 'L', 'L'],\n",
       "        ...,\n",
       "        ['L', 'L', 'L', ..., 'L', 'L', 'L'],\n",
       "        ['L', 'L', 'L', ..., 'L', 'L', 'L'],\n",
       "        ['L', 'L', 'L', ..., 'L', 'L', 'L']], dtype='<U1')"
      ]
     },
     "execution_count": 138,
     "metadata": {},
     "output_type": "execute_result"
    }
   ],
   "source": [
    "with open(\"input.txt\", \"r\") as f:\n",
    "    data = np.matrix([[i for i in t.strip()] for t in f])"
   ]
  },
  {
   "cell_type": "code",
   "execution_count": 134,
   "metadata": {},
   "outputs": [],
   "source": [
    "def neighbours(mat, row, col):\n",
    "    rows, cols = mat.shape\n",
    "    out = []\n",
    "    for i in range(max(row - 1, 0), min(row + 2,rows)):\n",
    "        row_list = []\n",
    "        for j in range(max(col - 1, 0), min(col + 2, cols)):\n",
    "            if i == row and j == col:\n",
    "                continue\n",
    "            else:\n",
    "                row_list.append(mat[i,j])\n",
    "        out.append(row_list)\n",
    "    return [item for sublist in out for item in sublist]\n"
   ]
  },
  {
   "cell_type": "code",
   "execution_count": 139,
   "metadata": {},
   "outputs": [
    {
     "data": {
      "text/plain": [
       "2338"
      ]
     },
     "execution_count": 139,
     "metadata": {},
     "output_type": "execute_result"
    }
   ],
   "source": [
    "stable = False\n",
    "seat_map = data[:]\n",
    "while not stable:\n",
    "    count = 0\n",
    "    row, col = seat_map.shape\n",
    "    tmp = np.zeros((row, col), str)\n",
    "    for i in range(row):\n",
    "        for j in range(col):\n",
    "            adjacent = neighbours(seat_map, i, j)\n",
    "            if seat_map[i,j] == \".\":\n",
    "                tmp[i,j] = \".\"\n",
    "            if seat_map[i,j] == \"L\":\n",
    "                if \"#\" not in adjacent:\n",
    "                    tmp[i,j] = \"#\"\n",
    "                    count += 1\n",
    "                else:\n",
    "                    tmp[i,j] = \"L\"\n",
    "            if seat_map[i,j] == \"#\":\n",
    "                if adjacent.count(\"#\") >= 4:\n",
    "                    tmp[i,j] = \"L\"\n",
    "                else:\n",
    "                    tmp[i,j] = \"#\"\n",
    "                    count += 1\n",
    "    if np.all(seat_map == tmp):\n",
    "        stable = True\n",
    "    else:\n",
    "        seat_map = tmp[:]\n",
    "                \n",
    "                \n",
    "            \n",
    "count"
   ]
  },
  {
   "cell_type": "code",
   "execution_count": 245,
   "metadata": {},
   "outputs": [],
   "source": [
    "def visible(mat, row, col):\n",
    "    rows, cols = mat.shape\n",
    "    first = [\"#\", \"L\"]\n",
    "    out = []\n",
    "    diagonals = [[-1,-1],[-1,0],[-1,1],[0,1],[1,1],[1,0],[1,-1],[0,-1]]\n",
    "    for d in diagonals:\n",
    "        x,y = d\n",
    "        i,j = row + x, col + y\n",
    "        tmp = []\n",
    "        while 0 <= i < rows and 0 <= j < cols:\n",
    "            char = mat[i,j]\n",
    "            if char in first:\n",
    "                tmp.append(char)\n",
    "                break\n",
    "            else:\n",
    "                tmp.append(char)\n",
    "            i += x\n",
    "            j += y\n",
    "        out.append(tmp)\n",
    "    return [item for sublist in out for item in sublist]\n",
    "        "
   ]
  },
  {
   "cell_type": "code",
   "execution_count": 246,
   "metadata": {},
   "outputs": [
    {
     "data": {
      "text/plain": [
       "['L', 'L', 'L', 'L', '.', 'L']"
      ]
     },
     "execution_count": 246,
     "metadata": {},
     "output_type": "execute_result"
    }
   ],
   "source": [
    "visible(test_matrix, 0,2).c"
   ]
  },
  {
   "cell_type": "code",
   "execution_count": 228,
   "metadata": {},
   "outputs": [
    {
     "data": {
      "text/plain": [
       "matrix([['L', '.', 'L', 'L', '.', 'L', 'L', '.', 'L', 'L'],\n",
       "        ['L', 'L', 'L', 'L', 'L', 'L', 'L', '.', 'L', 'L'],\n",
       "        ['L', '.', 'L', '.', 'L', '.', '.', 'L', '.', '.'],\n",
       "        ['L', 'L', 'L', 'L', '.', 'L', 'L', '.', 'L', 'L'],\n",
       "        ['L', '.', 'L', 'L', '.', 'L', 'L', '.', 'L', 'L'],\n",
       "        ['L', '.', 'L', 'L', 'L', 'L', 'L', '.', 'L', 'L'],\n",
       "        ['.', '.', 'L', '.', 'L', '.', '.', '.', '.', '.'],\n",
       "        ['L', 'L', 'L', 'L', 'L', 'L', 'L', 'L', 'L', 'L'],\n",
       "        ['L', '.', 'L', 'L', 'L', 'L', 'L', 'L', '.', 'L'],\n",
       "        ['L', '.', 'L', 'L', 'L', 'L', 'L', '.', 'L', 'L']], dtype='<U1')"
      ]
     },
     "execution_count": 228,
     "metadata": {},
     "output_type": "execute_result"
    }
   ],
   "source": [
    "test_matrix"
   ]
  },
  {
   "cell_type": "code",
   "execution_count": 248,
   "metadata": {},
   "outputs": [
    {
     "data": {
      "text/plain": [
       "26"
      ]
     },
     "execution_count": 248,
     "metadata": {},
     "output_type": "execute_result"
    }
   ],
   "source": [
    "stable = False\n",
    "seat_map = data[:]\n",
    "while not stable:\n",
    "    count = 0\n",
    "    row, col = seat_map.shape\n",
    "    tmp = np.zeros((row, col), str)\n",
    "    for i in range(row):\n",
    "        for j in range(col):\n",
    "            adjacent = visible(seat_map, i, j)\n",
    "            if seat_map[i,j] == \".\":\n",
    "                tmp[i,j] = \".\"\n",
    "            if seat_map[i,j] == \"L\":\n",
    "                if \"#\" not in adjacent:\n",
    "                    tmp[i,j] = \"#\"\n",
    "                    count += 1\n",
    "                else:\n",
    "                    tmp[i,j] = \"L\"\n",
    "            if seat_map[i,j] == \"#\":\n",
    "                if adjacent.count(\"#\") >= 5:\n",
    "                    tmp[i,j] = \"L\"\n",
    "                else:\n",
    "                    tmp[i,j] = \"#\"\n",
    "                    count += 1\n",
    "    if np.all(seat_map == tmp):\n",
    "        stable = True\n",
    "    else:\n",
    "        seat_map = tmp[:]\n",
    "                \n",
    "                \n",
    "            \n",
    "count"
   ]
  },
  {
   "cell_type": "code",
   "execution_count": 238,
   "metadata": {},
   "outputs": [
    {
     "data": {
      "text/plain": [
       "array([['#', '.', '#', '#', '.', '#', '#', '.', '#', '#'],\n",
       "       ['#', '#', '#', '#', '#', '#', '#', '.', '#', '#'],\n",
       "       ['#', '.', '#', '.', '#', '.', '.', '#', '.', '.'],\n",
       "       ['#', '#', '#', '#', '.', '#', '#', '.', '#', '#'],\n",
       "       ['#', '.', '#', '#', '.', '#', '#', '.', '#', '#'],\n",
       "       ['#', '.', '#', '#', '#', '#', '#', '.', '#', '#'],\n",
       "       ['.', '.', '#', '.', '#', '.', '.', '.', '.', '.'],\n",
       "       ['#', '#', '#', '#', '#', '#', '#', '#', '#', '#'],\n",
       "       ['#', '.', '#', '#', '#', '#', '#', '#', '.', '#'],\n",
       "       ['#', '.', '#', '#', '#', '#', '#', '.', '#', '#']], dtype='<U1')"
      ]
     },
     "execution_count": 238,
     "metadata": {},
     "output_type": "execute_result"
    }
   ],
   "source": [
    "tmp"
   ]
  },
  {
   "cell_type": "code",
   "execution_count": null,
   "metadata": {},
   "outputs": [],
   "source": []
  }
 ],
 "metadata": {
  "kernelspec": {
   "display_name": "Python 3",
   "language": "python",
   "name": "python3"
  },
  "language_info": {
   "codemirror_mode": {
    "name": "ipython",
    "version": 3
   },
   "file_extension": ".py",
   "mimetype": "text/x-python",
   "name": "python",
   "nbconvert_exporter": "python",
   "pygments_lexer": "ipython3",
   "version": "3.7.1"
  }
 },
 "nbformat": 4,
 "nbformat_minor": 2
}
