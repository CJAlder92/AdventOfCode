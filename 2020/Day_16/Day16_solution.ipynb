{
 "cells": [
  {
   "cell_type": "code",
   "execution_count": 309,
   "metadata": {},
   "outputs": [],
   "source": [
    "import numpy as np\n",
    "import re"
   ]
  },
  {
   "cell_type": "code",
   "execution_count": 310,
   "metadata": {},
   "outputs": [],
   "source": [
    "test = \"\"\"class: 0-1 or 4-19\n",
    "row: 0-5 or 8-19\n",
    "seat: 0-13 or 16-19\n",
    "\n",
    "your ticket:\n",
    "11,12,13\n",
    "\n",
    "nearby tickets:\n",
    "3,9,18\n",
    "15,1,5\n",
    "5,14,9\"\"\""
   ]
  },
  {
   "cell_type": "code",
   "execution_count": 311,
   "metadata": {},
   "outputs": [],
   "source": [
    "test = [t.split(\"\\n\") for t in test.split(\"\\n\\n\")]"
   ]
  },
  {
   "cell_type": "code",
   "execution_count": 312,
   "metadata": {},
   "outputs": [],
   "source": [
    "with open(\"input.txt\", \"r\") as f:\n",
    "    data = f.read()\n",
    "data = [t.split(\"\\n\") for t in data.split(\"\\n\\n\")]"
   ]
  },
  {
   "cell_type": "code",
   "execution_count": 313,
   "metadata": {},
   "outputs": [],
   "source": [
    "f_dict = dict()\n",
    "f_pat = re.compile(r\"^([a-zA-Z ]+): (\\d+)-(\\d+) or (\\d+)-(\\d+)$\")\n",
    "for f in data[0]:\n",
    "    tmp = f_pat.match(f).groups()\n",
    "    field, start, stop, ex_start, ex_stop = tmp[0], int(tmp[1]), int(tmp[4]) + 1, int(tmp[2]) + 1, int(tmp[3])\n",
    "    exclusion = list(range(ex_start, ex_stop))\n",
    "    f_dict[field] = [i for i in range(start, stop) if i not in exclusion]\n",
    "    \n",
    "valid_values= set([i for sub in f_dict.values() for i in sub])"
   ]
  },
  {
   "cell_type": "code",
   "execution_count": 314,
   "metadata": {},
   "outputs": [
    {
     "name": "stdout",
     "output_type": "stream",
     "text": [
      "Part 1: 26053\n"
     ]
    }
   ],
   "source": [
    "nearby = data[2][1:]\n",
    "nearby = [list(map(int, i.split(\",\"))) for i in nearby]\n",
    "inval_val = list()\n",
    "inval_tick = list()\n",
    "for i in range(len(nearby)):\n",
    "    for v in nearby[i]:\n",
    "        if v not in valid_values:\n",
    "            inval_val.append(v)\n",
    "            inval_tick.append(i)\n",
    "print(f\"Part 1: {sum(inval_val)}\")             "
   ]
  },
  {
   "cell_type": "code",
   "execution_count": 315,
   "metadata": {},
   "outputs": [
    {
     "data": {
      "text/plain": [
       "190"
      ]
     },
     "execution_count": 315,
     "metadata": {},
     "output_type": "execute_result"
    }
   ],
   "source": [
    "valid = [i[1] for i in enumerate(nearby) if i[0] not in inval_tick]\n",
    "len(valid)"
   ]
  },
  {
   "cell_type": "code",
   "execution_count": 316,
   "metadata": {},
   "outputs": [],
   "source": [
    "field_keys = list(f_dict.keys())"
   ]
  },
  {
   "cell_type": "code",
   "execution_count": 317,
   "metadata": {},
   "outputs": [],
   "source": [
    "d_index = dict()\n",
    "for k in field_keys:\n",
    "    field_values = f_dict[k]\n",
    "    tmp = []\n",
    "    for i in range(len(valid[0])):\n",
    "        val = [n[i] for n in valid]\n",
    "        if all(x in field_values for x in val):\n",
    "            tmp.append(i)\n",
    "    d_index[k] = tmp\n",
    "            \n",
    "    "
   ]
  },
  {
   "cell_type": "code",
   "execution_count": 318,
   "metadata": {},
   "outputs": [],
   "source": [
    "keep_filter = True\n",
    "final = dict()\n",
    "while keep_filter: \n",
    "    min_key, min_value = min(d_index.items(), key = lambda x: len((x[1])))\n",
    "    final[min_key] = min_value\n",
    "    del d_index[min_key]\n",
    "    d_index = {k:[i for i in v if i not in min_value] for k, v in d_index.items()}\n",
    "    if len(d_index) == 0:\n",
    "        keep_filter = False"
   ]
  },
  {
   "cell_type": "code",
   "execution_count": 319,
   "metadata": {},
   "outputs": [],
   "source": [
    "depart_dict = {k:v for k,v in final.items() if k.startswith(\"departure\")}"
   ]
  },
  {
   "cell_type": "code",
   "execution_count": 320,
   "metadata": {},
   "outputs": [],
   "source": [
    "my_ticket = data[1][1:]\n",
    "my_ticket = [list(map(int, i.split(\",\"))) for i in my_ticket][0]\n",
    "total = []\n",
    "for key in depart_dict:\n",
    "    index = depart_dict[key]\n",
    "    total.append(my_ticket[index[0]])\n"
   ]
  },
  {
   "cell_type": "code",
   "execution_count": 321,
   "metadata": {},
   "outputs": [
    {
     "data": {
      "text/plain": [
       "1515506256421"
      ]
     },
     "execution_count": 321,
     "metadata": {},
     "output_type": "execute_result"
    }
   ],
   "source": [
    "np.prod(total)"
   ]
  },
  {
   "cell_type": "code",
   "execution_count": null,
   "metadata": {},
   "outputs": [],
   "source": []
  }
 ],
 "metadata": {
  "kernelspec": {
   "display_name": "Python 3",
   "language": "python",
   "name": "python3"
  },
  "language_info": {
   "codemirror_mode": {
    "name": "ipython",
    "version": 3
   },
   "file_extension": ".py",
   "mimetype": "text/x-python",
   "name": "python",
   "nbconvert_exporter": "python",
   "pygments_lexer": "ipython3",
   "version": "3.7.1"
  }
 },
 "nbformat": 4,
 "nbformat_minor": 2
}
