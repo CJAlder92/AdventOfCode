{
 "cells": [
  {
   "cell_type": "code",
   "execution_count": 184,
   "metadata": {},
   "outputs": [],
   "source": [
    "import numpy as np\n",
    "from collections import defaultdict"
   ]
  },
  {
   "cell_type": "markdown",
   "metadata": {},
   "source": [
    "Test"
   ]
  },
  {
   "cell_type": "code",
   "execution_count": 85,
   "metadata": {},
   "outputs": [],
   "source": [
    "test = \"0,3,6\"\n",
    "test = [int(t) for t in test.split(\",\")]"
   ]
  },
  {
   "cell_type": "code",
   "execution_count": 230,
   "metadata": {},
   "outputs": [
    {
     "data": {
      "text/plain": [
       "defaultdict(list, {0: [1], 3: [2], 6: [3]})"
      ]
     },
     "execution_count": 230,
     "metadata": {},
     "output_type": "execute_result"
    }
   ],
   "source": [
    "g_dict = defaultdict(list, {k:[v] for v, k in enumerate(test, start = 1)})\n",
    "g_dict"
   ]
  },
  {
   "cell_type": "code",
   "execution_count": 242,
   "metadata": {},
   "outputs": [
    {
     "data": {
      "text/plain": [
       "defaultdict(list,\n",
       "            {16: [1], 1: [2], 0: [3], 18: [4], 12: [5], 14: [6], 19: [7]})"
      ]
     },
     "execution_count": 242,
     "metadata": {},
     "output_type": "execute_result"
    }
   ],
   "source": [
    "data = \"16,1,0,18,12,14,19\"\n",
    "data = [int(i) for i in data.split(\",\")]\n",
    "g_dict = defaultdict(list, {k:[v] for v, k in enumerate(data, start = 1)})\n",
    "g_dict"
   ]
  },
  {
   "cell_type": "code",
   "execution_count": 243,
   "metadata": {},
   "outputs": [],
   "source": [
    "i = len(g_dict) + 1\n",
    "prev = data[-1]\n",
    "while i <= 30000000:\n",
    "    if len(g_dict[prev]) == 1:\n",
    "        spoken = 0\n",
    "    else:\n",
    "        spoken = int(np.diff(g_dict[prev]))\n",
    "    g_dict[spoken].append(i)\n",
    "    g_dict[spoken] = g_dict[spoken][-2:]\n",
    "    prev = spoken\n",
    "    i += 1    \n",
    "    "
   ]
  },
  {
   "cell_type": "code",
   "execution_count": 244,
   "metadata": {},
   "outputs": [
    {
     "data": {
      "text/plain": [
       "[16671510]"
      ]
     },
     "execution_count": 244,
     "metadata": {},
     "output_type": "execute_result"
    }
   ],
   "source": [
    "[k for k,v in g_dict.items() if 30000000 in v]"
   ]
  }
 ],
 "metadata": {
  "kernelspec": {
   "display_name": "Python 3",
   "language": "python",
   "name": "python3"
  },
  "language_info": {
   "codemirror_mode": {
    "name": "ipython",
    "version": 3
   },
   "file_extension": ".py",
   "mimetype": "text/x-python",
   "name": "python",
   "nbconvert_exporter": "python",
   "pygments_lexer": "ipython3",
   "version": "3.7.1"
  }
 },
 "nbformat": 4,
 "nbformat_minor": 2
}
