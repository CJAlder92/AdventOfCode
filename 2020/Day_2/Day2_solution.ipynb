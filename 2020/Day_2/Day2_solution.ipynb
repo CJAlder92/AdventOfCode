{
 "cells": [
  {
   "cell_type": "code",
   "execution_count": 1,
   "metadata": {},
   "outputs": [],
   "source": [
    "import pandas as pd\n",
    "import numpy as np"
   ]
  },
  {
   "cell_type": "markdown",
   "metadata": {},
   "source": [
    "Part 1"
   ]
  },
  {
   "cell_type": "code",
   "execution_count": 37,
   "metadata": {},
   "outputs": [],
   "source": [
    "df = pd.read_csv(\"input.txt\", sep = \" \", header = None, names = [\"limits\", \"letter\", \"password\"])\n",
    "\n",
    "df[[\"min\", \"max\"]] = df['limits'].str.split('-', 1, expand=True).astype(int)\n",
    "\n",
    "df[\"letter\"] = df[\"letter\"].str.replace(':', '')\n",
    "\n",
    "df['counter'] = df.apply(lambda x: x['password'].count(x['letter']), axis=1)\n",
    "\n",
    "df['valid'] = df['counter'].between(df['min'], df['max'], inclusive = True)\n",
    "\n",
    "df['valid'].value_counts()"
   ]
  },
  {
   "cell_type": "markdown",
   "metadata": {},
   "source": [
    "Part 2"
   ]
  },
  {
   "cell_type": "code",
   "execution_count": 99,
   "metadata": {},
   "outputs": [],
   "source": [
    "def valid(pos1, pos2, letter, password):\n",
    "    positions = [i + 1 for i, l in enumerate(password) if l == letter]\n",
    "    print\n",
    "    if pos1 in positions and pos2 in positions:\n",
    "        return False\n",
    "    elif pos1 in positions or pos2 in positions:\n",
    "        return True\n",
    "    else:\n",
    "        return False"
   ]
  },
  {
   "cell_type": "code",
   "execution_count": 100,
   "metadata": {},
   "outputs": [],
   "source": [
    "df['valid_2'] = df.apply(lambda x: valid(x['min'], x['max'], x['letter'], x['password']), axis = 1)\n",
    "\n",
    "df['valid_2'].value_counts()\n"
   ]
  }
 ],
 "metadata": {
  "kernelspec": {
   "display_name": "Python 3",
   "language": "python",
   "name": "python3"
  },
  "language_info": {
   "codemirror_mode": {
    "name": "ipython",
    "version": 3
   },
   "file_extension": ".py",
   "mimetype": "text/x-python",
   "name": "python",
   "nbconvert_exporter": "python",
   "pygments_lexer": "ipython3",
   "version": "3.7.1"
  }
 },
 "nbformat": 4,
 "nbformat_minor": 2
}
