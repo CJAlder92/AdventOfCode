{
 "cells": [
  {
   "cell_type": "code",
   "execution_count": 18,
   "metadata": {},
   "outputs": [],
   "source": [
    "import numpy as np\n",
    "import re\n",
    "from itertools import product"
   ]
  },
  {
   "cell_type": "code",
   "execution_count": 143,
   "metadata": {},
   "outputs": [],
   "source": [
    "test = \"\"\"mask = XXXXXXXXXXXXXXXXXXXXXXXXXXXXX1XXXX0X\n",
    "mem[8] = 11\n",
    "mem[7] = 101\n",
    "mem[8] = 0\"\"\"\n",
    "test = test.split(\"\\n\")"
   ]
  },
  {
   "cell_type": "code",
   "execution_count": 60,
   "metadata": {},
   "outputs": [],
   "source": [
    "mask_pat = re.compile(r\"^mask = (.+)\")\n",
    "mem_pat = re.compile(r\"^mem\\[(\\d+)\\] = (\\d+)\")"
   ]
  },
  {
   "cell_type": "code",
   "execution_count": 250,
   "metadata": {},
   "outputs": [],
   "source": [
    "def read_lists():\n",
    "    with open('input.txt') as file:\n",
    "        sublist = []\n",
    "        previous_line = ''\n",
    "        for line in file:\n",
    "            line = line.strip()\n",
    "            if line.startswith('mask = ') and previous_line.startswith('mem'):\n",
    "                yield sublist\n",
    "                sublist = []\n",
    "            sublist.append(line)\n",
    "            previous_line = line\n",
    "        yield sublist"
   ]
  },
  {
   "cell_type": "code",
   "execution_count": 148,
   "metadata": {},
   "outputs": [],
   "source": [
    "mem = dict()\n",
    "for sub_list in read_lists():\n",
    "    mask = [i for i in mask_pat.match(sub_list[0]).groups()[0]]\n",
    "    for i in range(1, len(sub_list)):\n",
    "        pat = mem_pat.match(sub_list[i]).groups()\n",
    "        b_num = [c for c in '{:036b}'.format(int(pat[1]))]\n",
    "        for i in range(36):\n",
    "            if mask[i] == \"1\":\n",
    "                b_num[i] = \"1\"\n",
    "            if mask[i] == \"0\":\n",
    "                b_num[i] = \"0\"\n",
    "        res = int(\"\".join(b_num),2)\n",
    "        mem[pat[0]] = res\n",
    "            \n",
    "        \n",
    "        "
   ]
  },
  {
   "cell_type": "code",
   "execution_count": 153,
   "metadata": {},
   "outputs": [
    {
     "name": "stdout",
     "output_type": "stream",
     "text": [
      "Part 1: 4297467072083\n"
     ]
    }
   ],
   "source": [
    "print(f\"Part 1: {sum(mem.values())}\")"
   ]
  },
  {
   "cell_type": "code",
   "execution_count": null,
   "metadata": {},
   "outputs": [],
   "source": [
    "Part"
   ]
  },
  {
   "cell_type": "code",
   "execution_count": 251,
   "metadata": {},
   "outputs": [
    {
     "data": {
      "text/plain": [
       "5030603328768"
      ]
     },
     "execution_count": 251,
     "metadata": {},
     "output_type": "execute_result"
    }
   ],
   "source": [
    "mem = dict()\n",
    "for sub_list in read_lists():\n",
    "    mask = [i for i in mask_pat.match(sub_list[0]).groups()[0]]\n",
    "    for i in range(1, len(sub_list)):\n",
    "        pat = mem_pat.match(sub_list[i]).groups()\n",
    "        b_num = [c for c in '{:036b}'.format(int(pat[0]))]\n",
    "        for i in range(36):\n",
    "            if mask[i] == \"1\":\n",
    "                b_num[i] = \"1\"\n",
    "            if mask[i] == \"X\":\n",
    "                b_num[i] = \"X\"\n",
    "        indices = [i for i,x in enumerate(b_num) if x == \"X\"]\n",
    "        prod = list(product(\"01\", repeat = len(indices)))\n",
    "        for p in prod:\n",
    "            tmp = b_num[:]\n",
    "            for i, v in zip(indices, p):\n",
    "                tmp[i] = v\n",
    "            mem[int(\"\".join(tmp), 2)] = int(pat[1])"
   ]
  },
  {
   "cell_type": "code",
   "execution_count": null,
   "metadata": {},
   "outputs": [],
   "source": [
    "print(f\"Part 2: {sum(mem.values())}\")"
   ]
  }
 ],
 "metadata": {
  "kernelspec": {
   "display_name": "Python 3",
   "language": "python",
   "name": "python3"
  },
  "language_info": {
   "codemirror_mode": {
    "name": "ipython",
    "version": 3
   },
   "file_extension": ".py",
   "mimetype": "text/x-python",
   "name": "python",
   "nbconvert_exporter": "python",
   "pygments_lexer": "ipython3",
   "version": "3.7.1"
  }
 },
 "nbformat": 4,
 "nbformat_minor": 2
}
